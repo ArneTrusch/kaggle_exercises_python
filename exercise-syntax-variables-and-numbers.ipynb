{
 "cells": [
  {
   "cell_type": "markdown",
   "id": "ef0d91a3",
   "metadata": {
    "papermill": {
     "duration": 0.008116,
     "end_time": "2022-10-31T16:19:05.117711",
     "exception": false,
     "start_time": "2022-10-31T16:19:05.109595",
     "status": "completed"
    },
    "tags": []
   },
   "source": [
    "**This notebook is an exercise in the [Python](https://www.kaggle.com/learn/python) course.  You can reference the tutorial at [this link](https://www.kaggle.com/colinmorris/hello-python).**\n",
    "\n",
    "---\n"
   ]
  },
  {
   "cell_type": "markdown",
   "id": "3a982db3",
   "metadata": {
    "papermill": {
     "duration": 0.006783,
     "end_time": "2022-10-31T16:19:05.131493",
     "exception": false,
     "start_time": "2022-10-31T16:19:05.124710",
     "status": "completed"
    },
    "tags": []
   },
   "source": [
    "Welcome to your first set of Python coding problems.  If this is your first time using Kaggle Notebooks, welcome! \n",
    "\n",
    "Notebooks are composed of blocks (called \"cells\") of text and code. Each of these is editable, though you'll mainly be editing the code cells to answer some questions.\n",
    "\n",
    "To get started, try running the code cell below (by pressing the ► button, or clicking on the cell and pressing ctrl+enter on your keyboard)."
   ]
  },
  {
   "cell_type": "code",
   "execution_count": null,
   "id": "f7ae41ca",
   "metadata": {
    "papermill": {
     "duration": 0.006524,
     "end_time": "2022-10-31T16:19:05.144886",
     "exception": false,
     "start_time": "2022-10-31T16:19:05.138362",
     "status": "completed"
    },
    "tags": []
   },
   "outputs": [],
   "source": []
  },
  {
   "cell_type": "code",
   "execution_count": 1,
   "id": "6d8359ea",
   "metadata": {
    "execution": {
     "iopub.execute_input": "2022-10-31T16:19:05.162425Z",
     "iopub.status.busy": "2022-10-31T16:19:05.161355Z",
     "iopub.status.idle": "2022-10-31T16:19:05.178570Z",
     "shell.execute_reply": "2022-10-31T16:19:05.176198Z"
    },
    "papermill": {
     "duration": 0.028887,
     "end_time": "2022-10-31T16:19:05.181203",
     "exception": false,
     "start_time": "2022-10-31T16:19:05.152316",
     "status": "completed"
    },
    "tags": []
   },
   "outputs": [
    {
     "name": "stdout",
     "output_type": "stream",
     "text": [
      "You've successfully run some Python code\n",
      "Congratulations!\n",
      "1 + 1 = 3\n"
     ]
    }
   ],
   "source": [
    "print(\"You've successfully run some Python code\")\n",
    "print(\"Congratulations!\")\n",
    "print(\"1 + 1 = 3\")"
   ]
  },
  {
   "cell_type": "markdown",
   "id": "b227fe99",
   "metadata": {
    "papermill": {
     "duration": 0.007583,
     "end_time": "2022-10-31T16:19:05.197078",
     "exception": false,
     "start_time": "2022-10-31T16:19:05.189495",
     "status": "completed"
    },
    "tags": []
   },
   "source": [
    "Try adding another line of code in the cell above and re-running it. \n",
    "\n",
    "Now let's get a little fancier:  Add a new code cell by clicking on an existing code cell, hitting the escape key, and then hitting the `a` or `b` key.  The `a` key will add a cell above the current cell, and `b` adds a cell below.\n",
    "\n",
    "Great! Now you know how to use Notebooks.\n",
    "\n",
    "Each hands-on exercise starts by setting up our feedback and code checking mechanism. Run the code cell below to do that. Then you'll be ready to move on to question 0."
   ]
  },
  {
   "cell_type": "code",
   "execution_count": 2,
   "id": "39d6f275",
   "metadata": {
    "_kg_hide-input": true,
    "_kg_hide-output": true,
    "execution": {
     "iopub.execute_input": "2022-10-31T16:19:05.215859Z",
     "iopub.status.busy": "2022-10-31T16:19:05.215349Z",
     "iopub.status.idle": "2022-10-31T16:19:05.272825Z",
     "shell.execute_reply": "2022-10-31T16:19:05.271378Z"
    },
    "papermill": {
     "duration": 0.070608,
     "end_time": "2022-10-31T16:19:05.275696",
     "exception": false,
     "start_time": "2022-10-31T16:19:05.205088",
     "status": "completed"
    },
    "tags": []
   },
   "outputs": [
    {
     "name": "stdout",
     "output_type": "stream",
     "text": [
      "Setup complete! You're ready to start question 0.\n"
     ]
    }
   ],
   "source": [
    "from learntools.core import binder; binder.bind(globals())\n",
    "from learntools.python.ex1 import *\n",
    "print(\"Setup complete! You're ready to start question 0.\")"
   ]
  },
  {
   "cell_type": "markdown",
   "id": "9b42798a",
   "metadata": {
    "papermill": {
     "duration": 0.008457,
     "end_time": "2022-10-31T16:19:05.291273",
     "exception": false,
     "start_time": "2022-10-31T16:19:05.282816",
     "status": "completed"
    },
    "tags": []
   },
   "source": [
    "# 0.\n",
    "\n",
    "*This is a silly question intended as an introduction to the format we use for hands-on exercises throughout all Kaggle courses.*\n",
    "\n",
    "**What is your favorite color? **\n",
    "\n",
    "To complete this question, create a variable called `color` in the cell below with an appropriate value. The function call `q0.check()` (which we've already provided in the cell below) will check your answer."
   ]
  },
  {
   "cell_type": "code",
   "execution_count": 3,
   "id": "7b90e5a2",
   "metadata": {
    "execution": {
     "iopub.execute_input": "2022-10-31T16:19:05.306876Z",
     "iopub.status.busy": "2022-10-31T16:19:05.306497Z",
     "iopub.status.idle": "2022-10-31T16:19:05.317995Z",
     "shell.execute_reply": "2022-10-31T16:19:05.316800Z"
    },
    "papermill": {
     "duration": 0.022167,
     "end_time": "2022-10-31T16:19:05.320425",
     "exception": false,
     "start_time": "2022-10-31T16:19:05.298258",
     "status": "completed"
    },
    "tags": []
   },
   "outputs": [
    {
     "data": {
      "application/javascript": [
       "parent.postMessage({\"jupyterEvent\": \"custom.exercise_interaction\", \"data\": {\"outcomeType\": 1, \"valueTowardsCompletion\": 0.25, \"interactionType\": 1, \"questionType\": 2, \"questionId\": \"0_ExerciseFormatTutorial\", \"learnToolsVersion\": \"0.3.4\", \"failureMessage\": \"\", \"exceptionClass\": \"\", \"trace\": \"\"}}, \"*\")"
      ],
      "text/plain": [
       "<IPython.core.display.Javascript object>"
      ]
     },
     "metadata": {},
     "output_type": "display_data"
    },
    {
     "data": {
      "text/markdown": [
       "<span style=\"color:#33cc33\">Correct:</span> What?! You got it right without needing a hint or anything? Drats. Well hey, you should still continue to the next step to get some practice asking for a hint and checking solutions. (Even though you obviously don't need any help here.)"
      ],
      "text/plain": [
       "Correct: What?! You got it right without needing a hint or anything? Drats. Well hey, you should still continue to the next step to get some practice asking for a hint and checking solutions. (Even though you obviously don't need any help here.)"
      ]
     },
     "metadata": {},
     "output_type": "display_data"
    }
   ],
   "source": [
    "# create a variable called color with an appropriate value on the line below\n",
    "# (Remember, strings in Python must be enclosed in 'single' or \"double\" quotes)\n",
    "color = \"Blue\"\n",
    "\n",
    "# Check your answer\n",
    "q0.check()"
   ]
  },
  {
   "cell_type": "markdown",
   "id": "72fb3576",
   "metadata": {
    "papermill": {
     "duration": 0.009563,
     "end_time": "2022-10-31T16:19:05.337222",
     "exception": false,
     "start_time": "2022-10-31T16:19:05.327659",
     "status": "completed"
    },
    "tags": []
   },
   "source": [
    "Didn't get the right answer? How do you not even know your own favorite color?!\n",
    "\n",
    "Delete the `#` in the line below to make one of the lines run. You can choose between getting a hint or the full answer by choosing which line to remove the `#` from. \n",
    "\n",
    "Removing the `#` is called uncommenting, because it changes that line from a \"comment\" which Python doesn't run to code, which Python does run."
   ]
  },
  {
   "cell_type": "code",
   "execution_count": 4,
   "id": "57349be3",
   "metadata": {
    "execution": {
     "iopub.execute_input": "2022-10-31T16:19:05.358537Z",
     "iopub.status.busy": "2022-10-31T16:19:05.357555Z",
     "iopub.status.idle": "2022-10-31T16:19:05.366868Z",
     "shell.execute_reply": "2022-10-31T16:19:05.365964Z"
    },
    "papermill": {
     "duration": 0.022413,
     "end_time": "2022-10-31T16:19:05.369131",
     "exception": false,
     "start_time": "2022-10-31T16:19:05.346718",
     "status": "completed"
    },
    "tags": []
   },
   "outputs": [
    {
     "data": {
      "application/javascript": [
       "parent.postMessage({\"jupyterEvent\": \"custom.exercise_interaction\", \"data\": {\"interactionType\": 2, \"questionType\": 2, \"questionId\": \"0_ExerciseFormatTutorial\", \"learnToolsVersion\": \"0.3.4\", \"valueTowardsCompletion\": 0.0, \"failureMessage\": \"\", \"exceptionClass\": \"\", \"trace\": \"\", \"outcomeType\": 4}}, \"*\")"
      ],
      "text/plain": [
       "<IPython.core.display.Javascript object>"
      ]
     },
     "metadata": {},
     "output_type": "display_data"
    },
    {
     "data": {
      "text/markdown": [
       "<span style=\"color:#3366cc\">Hint:</span> Your favorite color rhymes with *glue*."
      ],
      "text/plain": [
       "Hint: Your favorite color rhymes with *glue*."
      ]
     },
     "metadata": {},
     "output_type": "display_data"
    }
   ],
   "source": [
    "q0.hint()\n",
    "#q0.solution()"
   ]
  },
  {
   "cell_type": "markdown",
   "id": "e65219d5",
   "metadata": {
    "papermill": {
     "duration": 0.008223,
     "end_time": "2022-10-31T16:19:05.387585",
     "exception": false,
     "start_time": "2022-10-31T16:19:05.379362",
     "status": "completed"
    },
    "tags": []
   },
   "source": [
    "The upcoming questions work the same way. The only thing that will change are the question numbers. For the next question, you'll call `q1.check()`, `q1.hint()`, `q1.solution()`, for question 2, you'll call `q2.check()`, and so on."
   ]
  },
  {
   "cell_type": "markdown",
   "id": "7dba7706",
   "metadata": {
    "papermill": {
     "duration": 0.007101,
     "end_time": "2022-10-31T16:19:05.402604",
     "exception": false,
     "start_time": "2022-10-31T16:19:05.395503",
     "status": "completed"
    },
    "tags": []
   },
   "source": [
    "<hr/>\n",
    "\n",
    "# 1.\n",
    "\n",
    "Complete the code below. In case it's helpful, here is the table of available arithmetic operations:\n",
    "\n",
    "\n",
    "\n",
    "| Operator     | Name           | Description                                            |\n",
    "|--------------|----------------|--------------------------------------------------------|\n",
    "| ``a + b``    | Addition       | Sum of ``a`` and ``b``                                 |\n",
    "| ``a - b``    | Subtraction    | Difference of ``a`` and ``b``                          |\n",
    "| ``a * b``    | Multiplication | Product of ``a`` and ``b``                             |\n",
    "| ``a / b``    | True division  | Quotient of ``a`` and ``b``                            |\n",
    "| ``a // b``   | Floor division | Quotient of ``a`` and ``b``, removing fractional parts |\n",
    "| ``a % b``    | Modulus        | Integer remainder after division of ``a`` by ``b``     |\n",
    "| ``a ** b``   | Exponentiation | ``a`` raised to the power of ``b``                     |\n",
    "| ``-a``       | Negation       | The negative of ``a``                                  |\n",
    "\n",
    "<span style=\"display:none\"></span>\n"
   ]
  },
  {
   "cell_type": "code",
   "execution_count": 5,
   "id": "ffea6519",
   "metadata": {
    "execution": {
     "iopub.execute_input": "2022-10-31T16:19:05.419075Z",
     "iopub.status.busy": "2022-10-31T16:19:05.418682Z",
     "iopub.status.idle": "2022-10-31T16:19:05.428994Z",
     "shell.execute_reply": "2022-10-31T16:19:05.428101Z"
    },
    "papermill": {
     "duration": 0.021208,
     "end_time": "2022-10-31T16:19:05.431258",
     "exception": false,
     "start_time": "2022-10-31T16:19:05.410050",
     "status": "completed"
    },
    "tags": []
   },
   "outputs": [
    {
     "data": {
      "application/javascript": [
       "parent.postMessage({\"jupyterEvent\": \"custom.exercise_interaction\", \"data\": {\"outcomeType\": 1, \"valueTowardsCompletion\": 0.25, \"interactionType\": 1, \"questionType\": 1, \"questionId\": \"1_CircleArea\", \"learnToolsVersion\": \"0.3.4\", \"failureMessage\": \"\", \"exceptionClass\": \"\", \"trace\": \"\"}}, \"*\")"
      ],
      "text/plain": [
       "<IPython.core.display.Javascript object>"
      ]
     },
     "metadata": {},
     "output_type": "display_data"
    },
    {
     "data": {
      "text/markdown": [
       "<span style=\"color:#33cc33\">Correct</span>"
      ],
      "text/plain": [
       "Correct"
      ]
     },
     "metadata": {},
     "output_type": "display_data"
    }
   ],
   "source": [
    "pi = 3.14159 # approximate\n",
    "diameter = 3\n",
    "\n",
    "# Create a variable called 'radius' equal to half the diameter\n",
    "\n",
    "radius = diameter / 2\n",
    "____\n",
    "\n",
    "# Create a variable called 'area', using the formula for the area of a circle: pi times the radius squared\n",
    "\n",
    "area = pi * (radius**2)\n",
    "____\n",
    "\n",
    "# Check your answer\n",
    "q1.check()"
   ]
  },
  {
   "cell_type": "code",
   "execution_count": 6,
   "id": "07c12027",
   "metadata": {
    "execution": {
     "iopub.execute_input": "2022-10-31T16:19:05.449244Z",
     "iopub.status.busy": "2022-10-31T16:19:05.448371Z",
     "iopub.status.idle": "2022-10-31T16:19:05.454519Z",
     "shell.execute_reply": "2022-10-31T16:19:05.452681Z"
    },
    "papermill": {
     "duration": 0.019354,
     "end_time": "2022-10-31T16:19:05.458225",
     "exception": false,
     "start_time": "2022-10-31T16:19:05.438871",
     "status": "completed"
    },
    "tags": []
   },
   "outputs": [],
   "source": [
    "# Uncomment and run the lines below if you need help.\n",
    "#q1.hint()\n",
    "#q1.solution()"
   ]
  },
  {
   "cell_type": "markdown",
   "id": "249ad3af",
   "metadata": {
    "papermill": {
     "duration": 0.008689,
     "end_time": "2022-10-31T16:19:05.474868",
     "exception": false,
     "start_time": "2022-10-31T16:19:05.466179",
     "status": "completed"
    },
    "tags": []
   },
   "source": [
    "<hr/>\n",
    "\n",
    "# 2.\n",
    "\n",
    "Add code to the following cell to swap variables `a` and `b` (so that `a` refers to the object previously referred to by `b` and vice versa)."
   ]
  },
  {
   "cell_type": "code",
   "execution_count": 7,
   "id": "c2f519ed",
   "metadata": {
    "execution": {
     "iopub.execute_input": "2022-10-31T16:19:05.493156Z",
     "iopub.status.busy": "2022-10-31T16:19:05.491950Z",
     "iopub.status.idle": "2022-10-31T16:19:05.501903Z",
     "shell.execute_reply": "2022-10-31T16:19:05.500804Z"
    },
    "papermill": {
     "duration": 0.021502,
     "end_time": "2022-10-31T16:19:05.504385",
     "exception": false,
     "start_time": "2022-10-31T16:19:05.482883",
     "status": "completed"
    },
    "tags": []
   },
   "outputs": [
    {
     "data": {
      "application/javascript": [
       "parent.postMessage({\"jupyterEvent\": \"custom.exercise_interaction\", \"data\": {\"outcomeType\": 1, \"valueTowardsCompletion\": 0.25, \"interactionType\": 1, \"questionType\": 2, \"questionId\": \"2_VariableSwap\", \"learnToolsVersion\": \"0.3.4\", \"failureMessage\": \"\", \"exceptionClass\": \"\", \"trace\": \"\"}}, \"*\")"
      ],
      "text/plain": [
       "<IPython.core.display.Javascript object>"
      ]
     },
     "metadata": {},
     "output_type": "display_data"
    },
    {
     "data": {
      "text/markdown": [
       "<span style=\"color:#33cc33\">Correct:</span> \n",
       "\n",
       "The most straightforward solution is to use a third variable to temporarily store one of the old values. e.g.:\n",
       "\n",
       "    tmp = a\n",
       "    a = b\n",
       "    b = tmp\n",
       "\n",
       "If you've read lots of Python code, you might have seen the following trick to swap two variables in one line:\n",
       "\n",
       "    a, b = b, a\n",
       "\n",
       "We'll demystify this bit of Python magic later when we talk about *tuples*."
      ],
      "text/plain": [
       "Correct: \n",
       "\n",
       "The most straightforward solution is to use a third variable to temporarily store one of the old values. e.g.:\n",
       "\n",
       "    tmp = a\n",
       "    a = b\n",
       "    b = tmp\n",
       "\n",
       "If you've read lots of Python code, you might have seen the following trick to swap two variables in one line:\n",
       "\n",
       "    a, b = b, a\n",
       "\n",
       "We'll demystify this bit of Python magic later when we talk about *tuples*."
      ]
     },
     "metadata": {},
     "output_type": "display_data"
    }
   ],
   "source": [
    "########### Setup code - don't touch this part ######################\n",
    "# If you're curious, these are examples of lists. We'll talk about \n",
    "# them in depth a few lessons from now. For now, just know that they're\n",
    "# yet another type of Python object, like int or float.\n",
    "a = [1, 2, 3]\n",
    "b = [3, 2, 1]\n",
    "q2.store_original_ids()\n",
    "######################################################################\n",
    "\n",
    "a, b = b, a\n",
    "\n",
    "# Your code goes here. Swap the values to which a and b refer.\n",
    "# If you get stuck, you can always uncomment one or both of the lines in\n",
    "# the next cell for a hint, or to peek at the solution.\n",
    "\n",
    "######################################################################\n",
    "\n",
    "# Check your answer\n",
    "q2.check()"
   ]
  },
  {
   "cell_type": "code",
   "execution_count": 8,
   "id": "02bd27d8",
   "metadata": {
    "execution": {
     "iopub.execute_input": "2022-10-31T16:19:05.522181Z",
     "iopub.status.busy": "2022-10-31T16:19:05.521771Z",
     "iopub.status.idle": "2022-10-31T16:19:05.529954Z",
     "shell.execute_reply": "2022-10-31T16:19:05.529026Z"
    },
    "papermill": {
     "duration": 0.019544,
     "end_time": "2022-10-31T16:19:05.531974",
     "exception": false,
     "start_time": "2022-10-31T16:19:05.512430",
     "status": "completed"
    },
    "tags": []
   },
   "outputs": [
    {
     "data": {
      "application/javascript": [
       "parent.postMessage({\"jupyterEvent\": \"custom.exercise_interaction\", \"data\": {\"interactionType\": 2, \"questionType\": 2, \"questionId\": \"2_VariableSwap\", \"learnToolsVersion\": \"0.3.4\", \"valueTowardsCompletion\": 0.0, \"failureMessage\": \"\", \"exceptionClass\": \"\", \"trace\": \"\", \"outcomeType\": 4}}, \"*\")"
      ],
      "text/plain": [
       "<IPython.core.display.Javascript object>"
      ]
     },
     "metadata": {},
     "output_type": "display_data"
    },
    {
     "data": {
      "text/markdown": [
       "<span style=\"color:#3366cc\">Hint:</span> Try using a third variable."
      ],
      "text/plain": [
       "Hint: Try using a third variable."
      ]
     },
     "metadata": {},
     "output_type": "display_data"
    }
   ],
   "source": [
    "q2.hint()"
   ]
  },
  {
   "cell_type": "code",
   "execution_count": 9,
   "id": "5acf19d7",
   "metadata": {
    "execution": {
     "iopub.execute_input": "2022-10-31T16:19:05.555638Z",
     "iopub.status.busy": "2022-10-31T16:19:05.554530Z",
     "iopub.status.idle": "2022-10-31T16:19:05.561980Z",
     "shell.execute_reply": "2022-10-31T16:19:05.561109Z"
    },
    "papermill": {
     "duration": 0.022618,
     "end_time": "2022-10-31T16:19:05.564777",
     "exception": false,
     "start_time": "2022-10-31T16:19:05.542159",
     "status": "completed"
    },
    "tags": []
   },
   "outputs": [],
   "source": [
    "#q2.solution()"
   ]
  },
  {
   "cell_type": "markdown",
   "id": "d7626ea9",
   "metadata": {
    "papermill": {
     "duration": 0.009151,
     "end_time": "2022-10-31T16:19:05.584231",
     "exception": false,
     "start_time": "2022-10-31T16:19:05.575080",
     "status": "completed"
    },
    "tags": []
   },
   "source": [
    "<hr/>\n",
    "\n",
    "# 3a.\n",
    "\n",
    "Add parentheses to the following expression so that it evaluates to 1."
   ]
  },
  {
   "cell_type": "code",
   "execution_count": 10,
   "id": "450dc6e6",
   "metadata": {
    "execution": {
     "iopub.execute_input": "2022-10-31T16:19:05.603831Z",
     "iopub.status.busy": "2022-10-31T16:19:05.603271Z",
     "iopub.status.idle": "2022-10-31T16:19:05.611132Z",
     "shell.execute_reply": "2022-10-31T16:19:05.609841Z"
    },
    "papermill": {
     "duration": 0.02055,
     "end_time": "2022-10-31T16:19:05.613552",
     "exception": false,
     "start_time": "2022-10-31T16:19:05.593002",
     "status": "completed"
    },
    "tags": []
   },
   "outputs": [
    {
     "data": {
      "text/plain": [
       "1"
      ]
     },
     "execution_count": 10,
     "metadata": {},
     "output_type": "execute_result"
    }
   ],
   "source": [
    "(5 - 3) // 2"
   ]
  },
  {
   "cell_type": "code",
   "execution_count": 11,
   "id": "11c29815",
   "metadata": {
    "execution": {
     "iopub.execute_input": "2022-10-31T16:19:05.634502Z",
     "iopub.status.busy": "2022-10-31T16:19:05.633998Z",
     "iopub.status.idle": "2022-10-31T16:19:05.639452Z",
     "shell.execute_reply": "2022-10-31T16:19:05.638513Z"
    },
    "papermill": {
     "duration": 0.019915,
     "end_time": "2022-10-31T16:19:05.641862",
     "exception": false,
     "start_time": "2022-10-31T16:19:05.621947",
     "status": "completed"
    },
    "tags": []
   },
   "outputs": [],
   "source": [
    "#q3.a.hint()"
   ]
  },
  {
   "cell_type": "code",
   "execution_count": 12,
   "id": "f15906ff",
   "metadata": {
    "execution": {
     "iopub.execute_input": "2022-10-31T16:19:05.660965Z",
     "iopub.status.busy": "2022-10-31T16:19:05.660530Z",
     "iopub.status.idle": "2022-10-31T16:19:05.670490Z",
     "shell.execute_reply": "2022-10-31T16:19:05.669387Z"
    },
    "papermill": {
     "duration": 0.021853,
     "end_time": "2022-10-31T16:19:05.672556",
     "exception": false,
     "start_time": "2022-10-31T16:19:05.650703",
     "status": "completed"
    },
    "tags": []
   },
   "outputs": [
    {
     "data": {
      "application/javascript": [
       "parent.postMessage({\"jupyterEvent\": \"custom.exercise_interaction\", \"data\": {\"interactionType\": 3, \"questionType\": 4, \"questionId\": \"3.1_ArithmeticParensEasy\", \"learnToolsVersion\": \"0.3.4\", \"valueTowardsCompletion\": 0.0, \"failureMessage\": \"\", \"exceptionClass\": \"\", \"trace\": \"\", \"outcomeType\": 4}}, \"*\")"
      ],
      "text/plain": [
       "<IPython.core.display.Javascript object>"
      ]
     },
     "metadata": {},
     "output_type": "display_data"
    },
    {
     "data": {
      "text/markdown": [
       "<span style=\"color:#33cc99\">Solution:</span> \n",
       "```python\n",
       "(5 - 3) // 2\n",
       "```"
      ],
      "text/plain": [
       "Solution: \n",
       "```python\n",
       "(5 - 3) // 2\n",
       "```"
      ]
     },
     "metadata": {},
     "output_type": "display_data"
    }
   ],
   "source": [
    "# Check your answer (Run this code cell to receive credit!)\n",
    "q3.a.solution()"
   ]
  },
  {
   "cell_type": "markdown",
   "id": "63685ae7",
   "metadata": {
    "papermill": {
     "duration": 0.008275,
     "end_time": "2022-10-31T16:19:05.689403",
     "exception": false,
     "start_time": "2022-10-31T16:19:05.681128",
     "status": "completed"
    },
    "tags": []
   },
   "source": [
    "# 3b.  <span title=\"A bit spicy\" style=\"color: darkgreen \">🌶️</span>\n",
    "\n",
    "<small>Questions, like this one, marked a spicy pepper are a bit harder.</small>\n",
    "\n",
    "Add parentheses to the following expression so that it evaluates to 0."
   ]
  },
  {
   "cell_type": "code",
   "execution_count": 13,
   "id": "13a1d5a1",
   "metadata": {
    "execution": {
     "iopub.execute_input": "2022-10-31T16:19:05.708363Z",
     "iopub.status.busy": "2022-10-31T16:19:05.707847Z",
     "iopub.status.idle": "2022-10-31T16:19:05.714281Z",
     "shell.execute_reply": "2022-10-31T16:19:05.713377Z"
    },
    "papermill": {
     "duration": 0.018759,
     "end_time": "2022-10-31T16:19:05.716597",
     "exception": false,
     "start_time": "2022-10-31T16:19:05.697838",
     "status": "completed"
    },
    "tags": []
   },
   "outputs": [
    {
     "data": {
      "text/plain": [
       "0"
      ]
     },
     "execution_count": 13,
     "metadata": {},
     "output_type": "execute_result"
    }
   ],
   "source": [
    "8 - 3 * 2 - (1 + 1)"
   ]
  },
  {
   "cell_type": "code",
   "execution_count": 14,
   "id": "85080345",
   "metadata": {
    "execution": {
     "iopub.execute_input": "2022-10-31T16:19:05.736254Z",
     "iopub.status.busy": "2022-10-31T16:19:05.735831Z",
     "iopub.status.idle": "2022-10-31T16:19:05.740737Z",
     "shell.execute_reply": "2022-10-31T16:19:05.739380Z"
    },
    "papermill": {
     "duration": 0.017396,
     "end_time": "2022-10-31T16:19:05.743046",
     "exception": false,
     "start_time": "2022-10-31T16:19:05.725650",
     "status": "completed"
    },
    "tags": []
   },
   "outputs": [],
   "source": [
    "#q3.b.hint()"
   ]
  },
  {
   "cell_type": "code",
   "execution_count": 15,
   "id": "08eaa843",
   "metadata": {
    "execution": {
     "iopub.execute_input": "2022-10-31T16:19:05.762985Z",
     "iopub.status.busy": "2022-10-31T16:19:05.762559Z",
     "iopub.status.idle": "2022-10-31T16:19:05.772068Z",
     "shell.execute_reply": "2022-10-31T16:19:05.771118Z"
    },
    "papermill": {
     "duration": 0.022013,
     "end_time": "2022-10-31T16:19:05.774407",
     "exception": false,
     "start_time": "2022-10-31T16:19:05.752394",
     "status": "completed"
    },
    "tags": []
   },
   "outputs": [
    {
     "data": {
      "application/javascript": [
       "parent.postMessage({\"jupyterEvent\": \"custom.exercise_interaction\", \"data\": {\"interactionType\": 3, \"questionType\": 4, \"questionId\": \"3.2_ArithmeticParensHard\", \"learnToolsVersion\": \"0.3.4\", \"valueTowardsCompletion\": 0.0, \"failureMessage\": \"\", \"exceptionClass\": \"\", \"trace\": \"\", \"outcomeType\": 4}}, \"*\")"
      ],
      "text/plain": [
       "<IPython.core.display.Javascript object>"
      ]
     },
     "metadata": {},
     "output_type": "display_data"
    },
    {
     "data": {
      "text/markdown": [
       "<span style=\"color:#33cc99\">Solution:</span> `(8 - 3) * (2 - (1 + 1))` is one solution. There may be others."
      ],
      "text/plain": [
       "Solution: `(8 - 3) * (2 - (1 + 1))` is one solution. There may be others."
      ]
     },
     "metadata": {},
     "output_type": "display_data"
    }
   ],
   "source": [
    "# Check your answer (Run this code cell to receive credit!)\n",
    "q3.b.solution()"
   ]
  },
  {
   "cell_type": "markdown",
   "id": "a9e885ee",
   "metadata": {
    "papermill": {
     "duration": 0.008657,
     "end_time": "2022-10-31T16:19:05.792083",
     "exception": false,
     "start_time": "2022-10-31T16:19:05.783426",
     "status": "completed"
    },
    "tags": []
   },
   "source": [
    "<hr/>\n",
    "\n",
    "# 4. \n",
    "Alice, Bob and Carol have agreed to pool their Halloween candy and split it evenly among themselves.\n",
    "For the sake of their friendship, any candies left over will be smashed. For example, if they collectively\n",
    "bring home 91 candies, they'll take 30 each and smash 1.\n",
    "\n",
    "Write an arithmetic expression below to calculate how many candies they must smash for a given haul."
   ]
  },
  {
   "cell_type": "code",
   "execution_count": 16,
   "id": "932887be",
   "metadata": {
    "execution": {
     "iopub.execute_input": "2022-10-31T16:19:05.812019Z",
     "iopub.status.busy": "2022-10-31T16:19:05.811589Z",
     "iopub.status.idle": "2022-10-31T16:19:05.820934Z",
     "shell.execute_reply": "2022-10-31T16:19:05.820047Z"
    },
    "papermill": {
     "duration": 0.021862,
     "end_time": "2022-10-31T16:19:05.823111",
     "exception": false,
     "start_time": "2022-10-31T16:19:05.801249",
     "status": "completed"
    },
    "tags": []
   },
   "outputs": [
    {
     "data": {
      "application/javascript": [
       "parent.postMessage({\"jupyterEvent\": \"custom.exercise_interaction\", \"data\": {\"outcomeType\": 1, \"valueTowardsCompletion\": 0.25, \"interactionType\": 1, \"questionType\": 1, \"questionId\": \"4_CandySplitting\", \"learnToolsVersion\": \"0.3.4\", \"failureMessage\": \"\", \"exceptionClass\": \"\", \"trace\": \"\"}}, \"*\")"
      ],
      "text/plain": [
       "<IPython.core.display.Javascript object>"
      ]
     },
     "metadata": {},
     "output_type": "display_data"
    },
    {
     "data": {
      "text/markdown": [
       "<span style=\"color:#33cc33\">Correct</span>"
      ],
      "text/plain": [
       "Correct"
      ]
     },
     "metadata": {},
     "output_type": "display_data"
    }
   ],
   "source": [
    "# Variables representing the number of candies collected by alice, bob, and carol\n",
    "alice_candies = 121\n",
    "bob_candies = 77\n",
    "carol_candies = 109\n",
    "\n",
    "# Your code goes here! Replace the right-hand side of this assignment with an expression\n",
    "# involving alice_candies, bob_candies, and carol_candies\n",
    "to_smash = (alice_candies + bob_candies + carol_candies) % 3\n",
    "\n",
    "# Check your answer\n",
    "q4.check()"
   ]
  },
  {
   "cell_type": "code",
   "execution_count": 17,
   "id": "7fd934af",
   "metadata": {
    "execution": {
     "iopub.execute_input": "2022-10-31T16:19:05.843990Z",
     "iopub.status.busy": "2022-10-31T16:19:05.843550Z",
     "iopub.status.idle": "2022-10-31T16:19:05.853343Z",
     "shell.execute_reply": "2022-10-31T16:19:05.851826Z"
    },
    "papermill": {
     "duration": 0.023548,
     "end_time": "2022-10-31T16:19:05.856103",
     "exception": false,
     "start_time": "2022-10-31T16:19:05.832555",
     "status": "completed"
    },
    "tags": []
   },
   "outputs": [
    {
     "data": {
      "application/javascript": [
       "parent.postMessage({\"jupyterEvent\": \"custom.exercise_interaction\", \"data\": {\"interactionType\": 2, \"questionType\": 1, \"questionId\": \"4_CandySplitting\", \"learnToolsVersion\": \"0.3.4\", \"valueTowardsCompletion\": 0.0, \"failureMessage\": \"\", \"exceptionClass\": \"\", \"trace\": \"\", \"outcomeType\": 4}}, \"*\")"
      ],
      "text/plain": [
       "<IPython.core.display.Javascript object>"
      ]
     },
     "metadata": {},
     "output_type": "display_data"
    },
    {
     "data": {
      "text/markdown": [
       "<span style=\"color:#3366cc\">Hint 1:</span> You'll probably want to use the modulo operator, `%`.\n",
       "(For another hint, call `.hint(2)`)"
      ],
      "text/plain": [
       "Hint 1: You'll probably want to use the modulo operator, `%`.\n",
       "(For another hint, call `.hint(2)`)"
      ]
     },
     "metadata": {},
     "output_type": "display_data"
    }
   ],
   "source": [
    "q4.hint()\n",
    "#q4.solution()"
   ]
  },
  {
   "cell_type": "markdown",
   "id": "43a4a4fb",
   "metadata": {
    "papermill": {
     "duration": 0.008987,
     "end_time": "2022-10-31T16:19:05.874885",
     "exception": false,
     "start_time": "2022-10-31T16:19:05.865898",
     "status": "completed"
    },
    "tags": []
   },
   "source": [
    "# Keep Going\n",
    "\n",
    "Next up, you'll **[learn to write new functions and understand functions others write](https://www.kaggle.com/colinmorris/functions-and-getting-help)**. This will make you at least 10 times more productive as a Python programmer. "
   ]
  },
  {
   "cell_type": "markdown",
   "id": "332ac749",
   "metadata": {
    "papermill": {
     "duration": 0.008907,
     "end_time": "2022-10-31T16:19:05.893381",
     "exception": false,
     "start_time": "2022-10-31T16:19:05.884474",
     "status": "completed"
    },
    "tags": []
   },
   "source": [
    "---\n",
    "\n",
    "\n",
    "\n",
    "\n",
    "*Have questions or comments? Visit the [course discussion forum](https://www.kaggle.com/learn/python/discussion) to chat with other learners.*"
   ]
  }
 ],
 "metadata": {
  "kernelspec": {
   "display_name": "Python 3",
   "language": "python",
   "name": "python3"
  },
  "language_info": {
   "codemirror_mode": {
    "name": "ipython",
    "version": 3
   },
   "file_extension": ".py",
   "mimetype": "text/x-python",
   "name": "python",
   "nbconvert_exporter": "python",
   "pygments_lexer": "ipython3",
   "version": "3.7.12"
  },
  "papermill": {
   "default_parameters": {},
   "duration": 10.52699,
   "end_time": "2022-10-31T16:19:06.623746",
   "environment_variables": {},
   "exception": null,
   "input_path": "__notebook__.ipynb",
   "output_path": "__notebook__.ipynb",
   "parameters": {},
   "start_time": "2022-10-31T16:18:56.096756",
   "version": "2.3.4"
  }
 },
 "nbformat": 4,
 "nbformat_minor": 5
}

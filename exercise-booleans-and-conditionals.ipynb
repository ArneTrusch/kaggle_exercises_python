{
 "cells": [
  {
   "cell_type": "markdown",
   "id": "2cc9d3f7",
   "metadata": {
    "papermill": {
     "duration": 0.009905,
     "end_time": "2022-11-12T18:00:13.192401",
     "exception": false,
     "start_time": "2022-11-12T18:00:13.182496",
     "status": "completed"
    },
    "tags": []
   },
   "source": [
    "**This notebook is an exercise in the [Python](https://www.kaggle.com/learn/python) course.  You can reference the tutorial at [this link](https://www.kaggle.com/colinmorris/booleans-and-conditionals).**\n",
    "\n",
    "---\n"
   ]
  },
  {
   "cell_type": "markdown",
   "id": "746893e0",
   "metadata": {
    "papermill": {
     "duration": 0.008373,
     "end_time": "2022-11-12T18:00:13.209612",
     "exception": false,
     "start_time": "2022-11-12T18:00:13.201239",
     "status": "completed"
    },
    "tags": []
   },
   "source": [
    "In this exercise, you'll put to work what you have learned about booleans and conditionals.\n",
    "\n",
    "To get started, **run the setup code below** before writing your own code (and if you leave this notebook and come back later, don't forget to run the setup code again)."
   ]
  },
  {
   "cell_type": "code",
   "execution_count": 1,
   "id": "3be1c79f",
   "metadata": {
    "execution": {
     "iopub.execute_input": "2022-11-12T18:00:13.229644Z",
     "iopub.status.busy": "2022-11-12T18:00:13.228502Z",
     "iopub.status.idle": "2022-11-12T18:00:13.279399Z",
     "shell.execute_reply": "2022-11-12T18:00:13.278183Z"
    },
    "papermill": {
     "duration": 0.06338,
     "end_time": "2022-11-12T18:00:13.281866",
     "exception": false,
     "start_time": "2022-11-12T18:00:13.218486",
     "status": "completed"
    },
    "tags": []
   },
   "outputs": [
    {
     "name": "stdout",
     "output_type": "stream",
     "text": [
      "Setup complete.\n"
     ]
    }
   ],
   "source": [
    "from learntools.core import binder; binder.bind(globals())\n",
    "from learntools.python.ex3 import *\n",
    "print('Setup complete.')"
   ]
  },
  {
   "cell_type": "markdown",
   "id": "2750eaa7",
   "metadata": {
    "papermill": {
     "duration": 0.008221,
     "end_time": "2022-11-12T18:00:13.298820",
     "exception": false,
     "start_time": "2022-11-12T18:00:13.290599",
     "status": "completed"
    },
    "tags": []
   },
   "source": [
    "# 1.\n",
    "\n",
    "Many programming languages have [`sign`](https://en.wikipedia.org/wiki/Sign_function) available as a built-in function. Python doesn't, but we can define our own!\n",
    "\n",
    "In the cell below, define a function called `sign` which takes a numerical argument and returns -1 if it's negative, 1 if it's positive, and 0 if it's 0."
   ]
  },
  {
   "cell_type": "code",
   "execution_count": 2,
   "id": "988a5ed9",
   "metadata": {
    "execution": {
     "iopub.execute_input": "2022-11-12T18:00:13.319154Z",
     "iopub.status.busy": "2022-11-12T18:00:13.318743Z",
     "iopub.status.idle": "2022-11-12T18:00:13.329313Z",
     "shell.execute_reply": "2022-11-12T18:00:13.328490Z"
    },
    "papermill": {
     "duration": 0.022368,
     "end_time": "2022-11-12T18:00:13.331289",
     "exception": false,
     "start_time": "2022-11-12T18:00:13.308921",
     "status": "completed"
    },
    "tags": []
   },
   "outputs": [
    {
     "data": {
      "application/javascript": [
       "parent.postMessage({\"jupyterEvent\": \"custom.exercise_interaction\", \"data\": {\"outcomeType\": 1, \"valueTowardsCompletion\": 0.2, \"interactionType\": 1, \"questionType\": 2, \"questionId\": \"1_SignFunctionProblem\", \"learnToolsVersion\": \"0.3.4\", \"failureMessage\": \"\", \"exceptionClass\": \"\", \"trace\": \"\"}}, \"*\")"
      ],
      "text/plain": [
       "<IPython.core.display.Javascript object>"
      ]
     },
     "metadata": {},
     "output_type": "display_data"
    },
    {
     "data": {
      "text/markdown": [
       "<span style=\"color:#33cc33\">Correct</span>"
      ],
      "text/plain": [
       "Correct"
      ]
     },
     "metadata": {},
     "output_type": "display_data"
    }
   ],
   "source": [
    "def sign(x):\n",
    "    if x<0:\n",
    "        return(-1)\n",
    "    elif x==0:\n",
    "        return(0)\n",
    "    elif x>0:\n",
    "        return(1)\n",
    "    \n",
    "\n",
    "# Check your answer\n",
    "q1.check()"
   ]
  },
  {
   "cell_type": "code",
   "execution_count": 3,
   "id": "5ca35d78",
   "metadata": {
    "execution": {
     "iopub.execute_input": "2022-11-12T18:00:13.351784Z",
     "iopub.status.busy": "2022-11-12T18:00:13.350747Z",
     "iopub.status.idle": "2022-11-12T18:00:13.355466Z",
     "shell.execute_reply": "2022-11-12T18:00:13.354671Z"
    },
    "papermill": {
     "duration": 0.017019,
     "end_time": "2022-11-12T18:00:13.357606",
     "exception": false,
     "start_time": "2022-11-12T18:00:13.340587",
     "status": "completed"
    },
    "tags": []
   },
   "outputs": [],
   "source": [
    "#q1.solution()"
   ]
  },
  {
   "cell_type": "markdown",
   "id": "e212d203",
   "metadata": {
    "papermill": {
     "duration": 0.008512,
     "end_time": "2022-11-12T18:00:13.375155",
     "exception": false,
     "start_time": "2022-11-12T18:00:13.366643",
     "status": "completed"
    },
    "tags": []
   },
   "source": [
    "# 2.\n",
    "\n",
    "We've decided to add \"logging\" to our `to_smash` function from the previous exercise."
   ]
  },
  {
   "cell_type": "code",
   "execution_count": 4,
   "id": "a09d9cd0",
   "metadata": {
    "execution": {
     "iopub.execute_input": "2022-11-12T18:00:13.394939Z",
     "iopub.status.busy": "2022-11-12T18:00:13.394272Z",
     "iopub.status.idle": "2022-11-12T18:00:13.403818Z",
     "shell.execute_reply": "2022-11-12T18:00:13.402604Z"
    },
    "papermill": {
     "duration": 0.02183,
     "end_time": "2022-11-12T18:00:13.405892",
     "exception": false,
     "start_time": "2022-11-12T18:00:13.384062",
     "status": "completed"
    },
    "tags": []
   },
   "outputs": [
    {
     "name": "stdout",
     "output_type": "stream",
     "text": [
      "Splitting 91 candies\n",
      "Splitting 1 candies\n"
     ]
    },
    {
     "data": {
      "text/plain": [
       "1"
      ]
     },
     "execution_count": 4,
     "metadata": {},
     "output_type": "execute_result"
    }
   ],
   "source": [
    "def to_smash(total_candies):\n",
    "    \"\"\"Return the number of leftover candies that must be smashed after distributing\n",
    "    the given number of candies evenly between 3 friends.\n",
    "    \n",
    "    >>> to_smash(91)\n",
    "    1\n",
    "    \"\"\"\n",
    "    print(\"Splitting\", total_candies, \"candies\")\n",
    "    return total_candies % 3\n",
    "\n",
    "to_smash(91)\n",
    "to_smash(1)"
   ]
  },
  {
   "cell_type": "markdown",
   "id": "0cfb4d7d",
   "metadata": {
    "papermill": {
     "duration": 0.008761,
     "end_time": "2022-11-12T18:00:13.423955",
     "exception": false,
     "start_time": "2022-11-12T18:00:13.415194",
     "status": "completed"
    },
    "tags": []
   },
   "source": [
    "What happens if we call it with `total_candies = 1`?"
   ]
  },
  {
   "cell_type": "code",
   "execution_count": 5,
   "id": "14202642",
   "metadata": {
    "execution": {
     "iopub.execute_input": "2022-11-12T18:00:13.444228Z",
     "iopub.status.busy": "2022-11-12T18:00:13.443561Z",
     "iopub.status.idle": "2022-11-12T18:00:13.451206Z",
     "shell.execute_reply": "2022-11-12T18:00:13.450073Z"
    },
    "papermill": {
     "duration": 0.020153,
     "end_time": "2022-11-12T18:00:13.453241",
     "exception": false,
     "start_time": "2022-11-12T18:00:13.433088",
     "status": "completed"
    },
    "tags": []
   },
   "outputs": [
    {
     "name": "stdout",
     "output_type": "stream",
     "text": [
      "Splitting 1 candies\n"
     ]
    },
    {
     "data": {
      "text/plain": [
       "1"
      ]
     },
     "execution_count": 5,
     "metadata": {},
     "output_type": "execute_result"
    }
   ],
   "source": [
    "to_smash(1)"
   ]
  },
  {
   "cell_type": "markdown",
   "id": "00a54b86",
   "metadata": {
    "papermill": {
     "duration": 0.008954,
     "end_time": "2022-11-12T18:00:13.471310",
     "exception": false,
     "start_time": "2022-11-12T18:00:13.462356",
     "status": "completed"
    },
    "tags": []
   },
   "source": [
    "That isn't great grammar!\n",
    "\n",
    "Modify the definition in the cell below to correct the grammar of our print statement. (If there's only one candy, we should use the singular \"candy\" instead of the plural \"candies\")"
   ]
  },
  {
   "cell_type": "code",
   "execution_count": 6,
   "id": "7cdb51c4",
   "metadata": {
    "execution": {
     "iopub.execute_input": "2022-11-12T18:00:13.491732Z",
     "iopub.status.busy": "2022-11-12T18:00:13.491315Z",
     "iopub.status.idle": "2022-11-12T18:00:13.500389Z",
     "shell.execute_reply": "2022-11-12T18:00:13.499057Z"
    },
    "papermill": {
     "duration": 0.022247,
     "end_time": "2022-11-12T18:00:13.502910",
     "exception": false,
     "start_time": "2022-11-12T18:00:13.480663",
     "status": "completed"
    },
    "tags": []
   },
   "outputs": [
    {
     "name": "stdout",
     "output_type": "stream",
     "text": [
      "Splitting 91 candies\n",
      "Splitting 1 candy\n"
     ]
    },
    {
     "data": {
      "text/plain": [
       "1"
      ]
     },
     "execution_count": 6,
     "metadata": {},
     "output_type": "execute_result"
    }
   ],
   "source": [
    "def to_smash(total_candies):\n",
    "    \"\"\"Return the number of leftover candies that must be smashed after distributing\n",
    "    the given number of candies evenly between 3 friends.\n",
    "    \n",
    "    >>> to_smash(91)\n",
    "    1\n",
    "    \"\"\"\n",
    "    if total_candies == 1:\n",
    "        print(\"Splitting\", total_candies, \"candy\")\n",
    "    else:\n",
    "        print(\"Splitting\", total_candies, \"candies\")\n",
    "    return total_candies % 3\n",
    "\n",
    "to_smash(91)\n",
    "to_smash(1)"
   ]
  },
  {
   "cell_type": "markdown",
   "id": "47797a59",
   "metadata": {
    "papermill": {
     "duration": 0.009045,
     "end_time": "2022-11-12T18:00:13.521520",
     "exception": false,
     "start_time": "2022-11-12T18:00:13.512475",
     "status": "completed"
    },
    "tags": []
   },
   "source": [
    "To get credit for completing this problem, and to see the official answer, run the code cell below."
   ]
  },
  {
   "cell_type": "code",
   "execution_count": 7,
   "id": "e85d98de",
   "metadata": {
    "execution": {
     "iopub.execute_input": "2022-11-12T18:00:13.542218Z",
     "iopub.status.busy": "2022-11-12T18:00:13.541503Z",
     "iopub.status.idle": "2022-11-12T18:00:13.550094Z",
     "shell.execute_reply": "2022-11-12T18:00:13.549042Z"
    },
    "papermill": {
     "duration": 0.021486,
     "end_time": "2022-11-12T18:00:13.552456",
     "exception": false,
     "start_time": "2022-11-12T18:00:13.530970",
     "status": "completed"
    },
    "tags": []
   },
   "outputs": [
    {
     "data": {
      "application/javascript": [
       "parent.postMessage({\"jupyterEvent\": \"custom.exercise_interaction\", \"data\": {\"interactionType\": 3, \"questionType\": 4, \"questionId\": \"2_PluralizationProblem\", \"learnToolsVersion\": \"0.3.4\", \"valueTowardsCompletion\": 0.0, \"failureMessage\": \"\", \"exceptionClass\": \"\", \"trace\": \"\", \"outcomeType\": 4}}, \"*\")"
      ],
      "text/plain": [
       "<IPython.core.display.Javascript object>"
      ]
     },
     "metadata": {},
     "output_type": "display_data"
    },
    {
     "data": {
      "text/markdown": [
       "<span style=\"color:#33cc99\">Solution:</span> A straightforward (and totally fine) solution is to replace the original `print` call with:\n",
       "\n",
       "```python\n",
       "if total_candies == 1:\n",
       "    print(\"Splitting 1 candy\")\n",
       "else:\n",
       "    print(\"Splitting\", total_candies, \"candies\")\n",
       "```\n",
       "\n",
       "Here's a slightly more succinct solution using a conditional expression:\n",
       "\n",
       "```python\n",
       "print(\"Splitting\", total_candies, \"candy\" if total_candies == 1 else \"candies\")\n",
       "```"
      ],
      "text/plain": [
       "Solution: A straightforward (and totally fine) solution is to replace the original `print` call with:\n",
       "\n",
       "```python\n",
       "if total_candies == 1:\n",
       "    print(\"Splitting 1 candy\")\n",
       "else:\n",
       "    print(\"Splitting\", total_candies, \"candies\")\n",
       "```\n",
       "\n",
       "Here's a slightly more succinct solution using a conditional expression:\n",
       "\n",
       "```python\n",
       "print(\"Splitting\", total_candies, \"candy\" if total_candies == 1 else \"candies\")\n",
       "```"
      ]
     },
     "metadata": {},
     "output_type": "display_data"
    }
   ],
   "source": [
    "# Check your answer (Run this code cell to receive credit!)\n",
    "q2.solution()"
   ]
  },
  {
   "cell_type": "markdown",
   "id": "f0cb974f",
   "metadata": {
    "papermill": {
     "duration": 0.009466,
     "end_time": "2022-11-12T18:00:13.571827",
     "exception": false,
     "start_time": "2022-11-12T18:00:13.562361",
     "status": "completed"
    },
    "tags": []
   },
   "source": [
    "# 3. <span title=\"A bit spicy\" style=\"color: darkgreen \">🌶️</span>\n",
    "\n",
    "In the tutorial, we talked about deciding whether we're prepared for the weather. I said that I'm safe from today's weather if...\n",
    "- I have an umbrella...\n",
    "- or if the rain isn't too heavy and I have a hood...\n",
    "- otherwise, I'm still fine unless it's raining *and* it's a workday\n",
    "\n",
    "The function below uses our first attempt at turning this logic into a Python expression. I claimed that there was a bug in that code. Can you find it?\n",
    "\n",
    "To prove that `prepared_for_weather` is buggy, come up with a set of inputs where either:\n",
    "- the function returns `False` (but should have returned `True`), or\n",
    "- the function returned `True` (but should have returned `False`).\n",
    "\n",
    "To get credit for completing this question, your code should return a <font color='#33cc33'>Correct</font> result."
   ]
  },
  {
   "cell_type": "code",
   "execution_count": 8,
   "id": "f0387e49",
   "metadata": {
    "execution": {
     "iopub.execute_input": "2022-11-12T18:00:13.593289Z",
     "iopub.status.busy": "2022-11-12T18:00:13.592907Z",
     "iopub.status.idle": "2022-11-12T18:00:13.604482Z",
     "shell.execute_reply": "2022-11-12T18:00:13.603391Z"
    },
    "papermill": {
     "duration": 0.025034,
     "end_time": "2022-11-12T18:00:13.606794",
     "exception": false,
     "start_time": "2022-11-12T18:00:13.581760",
     "status": "completed"
    },
    "tags": []
   },
   "outputs": [
    {
     "name": "stdout",
     "output_type": "stream",
     "text": [
      "False\n"
     ]
    },
    {
     "data": {
      "application/javascript": [
       "parent.postMessage({\"jupyterEvent\": \"custom.exercise_interaction\", \"data\": {\"outcomeType\": 1, \"valueTowardsCompletion\": 0.2, \"interactionType\": 1, \"questionType\": 1, \"questionId\": \"3_WeatherDebug\", \"learnToolsVersion\": \"0.3.4\", \"failureMessage\": \"\", \"exceptionClass\": \"\", \"trace\": \"\"}}, \"*\")"
      ],
      "text/plain": [
       "<IPython.core.display.Javascript object>"
      ]
     },
     "metadata": {},
     "output_type": "display_data"
    },
    {
     "data": {
      "text/markdown": [
       "<span style=\"color:#33cc33\">Correct:</span> \n",
       "\n",
       "One example of a failing test case is:\n",
       "\n",
       "```python\n",
       "have_umbrella = False\n",
       "rain_level = 0.0\n",
       "have_hood = False\n",
       "is_workday = False\n",
       "```\n",
       "\n",
       "Clearly we're prepared for the weather in this case. It's not raining. Not only that, it's not a workday, so we don't even need to leave the house! But our function will return False on these inputs.\n",
       "\n",
       "The key problem is that Python implictly parenthesizes the last part as:\n",
       "\n",
       "```python\n",
       "(not (rain_level > 0)) and is_workday\n",
       "```\n",
       "\n",
       "Whereas what we were trying to express would look more like:\n",
       "\n",
       "```python\n",
       "not (rain_level > 0 and is_workday)\n",
       "```\n"
      ],
      "text/plain": [
       "Correct: \n",
       "\n",
       "One example of a failing test case is:\n",
       "\n",
       "```python\n",
       "have_umbrella = False\n",
       "rain_level = 0.0\n",
       "have_hood = False\n",
       "is_workday = False\n",
       "```\n",
       "\n",
       "Clearly we're prepared for the weather in this case. It's not raining. Not only that, it's not a workday, so we don't even need to leave the house! But our function will return False on these inputs.\n",
       "\n",
       "The key problem is that Python implictly parenthesizes the last part as:\n",
       "\n",
       "```python\n",
       "(not (rain_level > 0)) and is_workday\n",
       "```\n",
       "\n",
       "Whereas what we were trying to express would look more like:\n",
       "\n",
       "```python\n",
       "not (rain_level > 0 and is_workday)\n",
       "```"
      ]
     },
     "metadata": {},
     "output_type": "display_data"
    }
   ],
   "source": [
    "def prepared_for_weather(have_umbrella, rain_level, have_hood, is_workday):\n",
    "    # Don't change this code. Our goal is just to find the bug, not fix it!\n",
    "    return have_umbrella or rain_level < 5 and have_hood or not rain_level > 0 and is_workday\n",
    "\n",
    "# Change the values of these inputs so they represent a case where prepared_for_weather\n",
    "# returns the wrong answer.\n",
    "have_umbrella = False\n",
    "rain_level = 0\n",
    "have_hood = False\n",
    "is_workday = False\n",
    "\n",
    "# Check what the function returns given the current values of the variables above\n",
    "actual = prepared_for_weather(have_umbrella, rain_level, have_hood, is_workday)\n",
    "print(actual)\n",
    "\n",
    "# Check your answer\n",
    "q3.check()"
   ]
  },
  {
   "cell_type": "code",
   "execution_count": 9,
   "id": "78456122",
   "metadata": {
    "execution": {
     "iopub.execute_input": "2022-11-12T18:00:13.628958Z",
     "iopub.status.busy": "2022-11-12T18:00:13.628540Z",
     "iopub.status.idle": "2022-11-12T18:00:13.641360Z",
     "shell.execute_reply": "2022-11-12T18:00:13.640266Z"
    },
    "papermill": {
     "duration": 0.026845,
     "end_time": "2022-11-12T18:00:13.643790",
     "exception": false,
     "start_time": "2022-11-12T18:00:13.616945",
     "status": "completed"
    },
    "tags": []
   },
   "outputs": [
    {
     "data": {
      "application/javascript": [
       "parent.postMessage({\"jupyterEvent\": \"custom.exercise_interaction\", \"data\": {\"interactionType\": 2, \"questionType\": 1, \"questionId\": \"3_WeatherDebug\", \"learnToolsVersion\": \"0.3.4\", \"valueTowardsCompletion\": 0.0, \"failureMessage\": \"\", \"exceptionClass\": \"\", \"trace\": \"\", \"outcomeType\": 4}}, \"*\")"
      ],
      "text/plain": [
       "<IPython.core.display.Javascript object>"
      ]
     },
     "metadata": {},
     "output_type": "display_data"
    },
    {
     "data": {
      "text/markdown": [
       "<span style=\"color:#3366cc\">Hint:</span> Take a look at how we fixed our original expression in the main lesson. We added parentheses around certain subexpressions. The bug in this code is caused by Python evaluating certain operations in the \"wrong\" order."
      ],
      "text/plain": [
       "Hint: Take a look at how we fixed our original expression in the main lesson. We added parentheses around certain subexpressions. The bug in this code is caused by Python evaluating certain operations in the \"wrong\" order."
      ]
     },
     "metadata": {},
     "output_type": "display_data"
    },
    {
     "data": {
      "application/javascript": [
       "parent.postMessage({\"jupyterEvent\": \"custom.exercise_interaction\", \"data\": {\"interactionType\": 3, \"questionType\": 1, \"questionId\": \"3_WeatherDebug\", \"learnToolsVersion\": \"0.3.4\", \"valueTowardsCompletion\": 0.0, \"failureMessage\": \"\", \"exceptionClass\": \"\", \"trace\": \"\", \"outcomeType\": 4}}, \"*\")"
      ],
      "text/plain": [
       "<IPython.core.display.Javascript object>"
      ]
     },
     "metadata": {},
     "output_type": "display_data"
    },
    {
     "data": {
      "text/markdown": [
       "<span style=\"color:#33cc99\">Solution:</span> One example of a failing test case is:\n",
       "\n",
       "```python\n",
       "have_umbrella = False\n",
       "rain_level = 0.0\n",
       "have_hood = False\n",
       "is_workday = False\n",
       "```\n",
       "\n",
       "Clearly we're prepared for the weather in this case. It's not raining. Not only that, it's not a workday, so we don't even need to leave the house! But our function will return False on these inputs.\n",
       "\n",
       "The key problem is that Python implictly parenthesizes the last part as:\n",
       "\n",
       "```python\n",
       "(not (rain_level > 0)) and is_workday\n",
       "```\n",
       "\n",
       "Whereas what we were trying to express would look more like:\n",
       "\n",
       "```python\n",
       "not (rain_level > 0 and is_workday)\n",
       "```\n"
      ],
      "text/plain": [
       "Solution: One example of a failing test case is:\n",
       "\n",
       "```python\n",
       "have_umbrella = False\n",
       "rain_level = 0.0\n",
       "have_hood = False\n",
       "is_workday = False\n",
       "```\n",
       "\n",
       "Clearly we're prepared for the weather in this case. It's not raining. Not only that, it's not a workday, so we don't even need to leave the house! But our function will return False on these inputs.\n",
       "\n",
       "The key problem is that Python implictly parenthesizes the last part as:\n",
       "\n",
       "```python\n",
       "(not (rain_level > 0)) and is_workday\n",
       "```\n",
       "\n",
       "Whereas what we were trying to express would look more like:\n",
       "\n",
       "```python\n",
       "not (rain_level > 0 and is_workday)\n",
       "```"
      ]
     },
     "metadata": {},
     "output_type": "display_data"
    }
   ],
   "source": [
    "q3.hint()\n",
    "q3.solution()"
   ]
  },
  {
   "cell_type": "markdown",
   "id": "be9b90ee",
   "metadata": {
    "papermill": {
     "duration": 0.010715,
     "end_time": "2022-11-12T18:00:13.665243",
     "exception": false,
     "start_time": "2022-11-12T18:00:13.654528",
     "status": "completed"
    },
    "tags": []
   },
   "source": [
    "# 4.\n",
    "\n",
    "The function `is_negative` below is implemented correctly - it returns True if the given number is negative and False otherwise.\n",
    "\n",
    "However, it's more verbose than it needs to be. We can actually reduce the number of lines of code in this function by *75%* while keeping the same behaviour. \n",
    "\n",
    "See if you can come up with an equivalent body that uses just **one line** of code, and put it in the function `concise_is_negative`. (HINT: you don't even need Python's ternary syntax)"
   ]
  },
  {
   "cell_type": "code",
   "execution_count": 10,
   "id": "d0d868f9",
   "metadata": {
    "execution": {
     "iopub.execute_input": "2022-11-12T18:00:13.689554Z",
     "iopub.status.busy": "2022-11-12T18:00:13.688875Z",
     "iopub.status.idle": "2022-11-12T18:00:13.698519Z",
     "shell.execute_reply": "2022-11-12T18:00:13.697600Z"
    },
    "papermill": {
     "duration": 0.024316,
     "end_time": "2022-11-12T18:00:13.700830",
     "exception": false,
     "start_time": "2022-11-12T18:00:13.676514",
     "status": "completed"
    },
    "tags": []
   },
   "outputs": [
    {
     "data": {
      "application/javascript": [
       "parent.postMessage({\"jupyterEvent\": \"custom.exercise_interaction\", \"data\": {\"outcomeType\": 1, \"valueTowardsCompletion\": 0.2, \"interactionType\": 1, \"questionType\": 2, \"questionId\": \"4_ConciseIsNegative\", \"learnToolsVersion\": \"0.3.4\", \"failureMessage\": \"\", \"exceptionClass\": \"\", \"trace\": \"\"}}, \"*\")"
      ],
      "text/plain": [
       "<IPython.core.display.Javascript object>"
      ]
     },
     "metadata": {},
     "output_type": "display_data"
    },
    {
     "data": {
      "text/markdown": [
       "<span style=\"color:#33cc33\">Correct</span>"
      ],
      "text/plain": [
       "Correct"
      ]
     },
     "metadata": {},
     "output_type": "display_data"
    }
   ],
   "source": [
    "def is_negative(number):\n",
    "    if number < 0:\n",
    "        return True\n",
    "    else:\n",
    "        return False\n",
    "\n",
    "def concise_is_negative(number):\n",
    "    return number < 0\n",
    "\n",
    "# Check your answer\n",
    "q4.check()"
   ]
  },
  {
   "cell_type": "code",
   "execution_count": 11,
   "id": "e098bac3",
   "metadata": {
    "execution": {
     "iopub.execute_input": "2022-11-12T18:00:13.725351Z",
     "iopub.status.busy": "2022-11-12T18:00:13.724973Z",
     "iopub.status.idle": "2022-11-12T18:00:13.729035Z",
     "shell.execute_reply": "2022-11-12T18:00:13.727905Z"
    },
    "papermill": {
     "duration": 0.019551,
     "end_time": "2022-11-12T18:00:13.731295",
     "exception": false,
     "start_time": "2022-11-12T18:00:13.711744",
     "status": "completed"
    },
    "tags": []
   },
   "outputs": [],
   "source": [
    "#q4.hint()\n",
    "#q4.solution()"
   ]
  },
  {
   "cell_type": "markdown",
   "id": "973753d5",
   "metadata": {
    "papermill": {
     "duration": 0.010682,
     "end_time": "2022-11-12T18:00:13.753117",
     "exception": false,
     "start_time": "2022-11-12T18:00:13.742435",
     "status": "completed"
    },
    "tags": []
   },
   "source": [
    "# 5a.\n",
    "\n",
    "The boolean variables `ketchup`, `mustard` and `onion` represent whether a customer wants a particular topping on their hot dog. We want to implement a number of boolean functions that correspond to some yes-or-no questions about the customer's order. For example:"
   ]
  },
  {
   "cell_type": "code",
   "execution_count": 12,
   "id": "f1e246d4",
   "metadata": {
    "execution": {
     "iopub.execute_input": "2022-11-12T18:00:13.776902Z",
     "iopub.status.busy": "2022-11-12T18:00:13.776507Z",
     "iopub.status.idle": "2022-11-12T18:00:13.780718Z",
     "shell.execute_reply": "2022-11-12T18:00:13.779898Z"
    },
    "papermill": {
     "duration": 0.018664,
     "end_time": "2022-11-12T18:00:13.782644",
     "exception": false,
     "start_time": "2022-11-12T18:00:13.763980",
     "status": "completed"
    },
    "tags": []
   },
   "outputs": [],
   "source": [
    "def onionless(ketchup, mustard, onion):\n",
    "    \"\"\"Return whether the customer doesn't want onions.\n",
    "    \"\"\"\n",
    "    return not onion"
   ]
  },
  {
   "cell_type": "code",
   "execution_count": 13,
   "id": "c20037cd",
   "metadata": {
    "execution": {
     "iopub.execute_input": "2022-11-12T18:00:13.807161Z",
     "iopub.status.busy": "2022-11-12T18:00:13.806043Z",
     "iopub.status.idle": "2022-11-12T18:00:13.814268Z",
     "shell.execute_reply": "2022-11-12T18:00:13.813568Z"
    },
    "papermill": {
     "duration": 0.022357,
     "end_time": "2022-11-12T18:00:13.816183",
     "exception": false,
     "start_time": "2022-11-12T18:00:13.793826",
     "status": "completed"
    },
    "tags": []
   },
   "outputs": [
    {
     "data": {
      "application/javascript": [
       "parent.postMessage({\"jupyterEvent\": \"custom.exercise_interaction\", \"data\": {\"outcomeType\": 1, \"valueTowardsCompletion\": 0.2, \"interactionType\": 1, \"questionType\": 2, \"questionId\": \"5.1_AllToppings\", \"learnToolsVersion\": \"0.3.4\", \"failureMessage\": \"\", \"exceptionClass\": \"\", \"trace\": \"\"}}, \"*\")"
      ],
      "text/plain": [
       "<IPython.core.display.Javascript object>"
      ]
     },
     "metadata": {},
     "output_type": "display_data"
    },
    {
     "data": {
      "text/markdown": [
       "<span style=\"color:#33cc33\">Correct</span>"
      ],
      "text/plain": [
       "Correct"
      ]
     },
     "metadata": {},
     "output_type": "display_data"
    }
   ],
   "source": [
    "def wants_all_toppings(ketchup, mustard, onion):\n",
    "    \"\"\"Return whether the customer wants \"the works\" (all 3 toppings)\n",
    "    \"\"\"\n",
    "    return ketchup and mustard and onion\n",
    "\n",
    "# Check your answer\n",
    "q5.a.check()"
   ]
  },
  {
   "cell_type": "code",
   "execution_count": 14,
   "id": "ec23a2c6",
   "metadata": {
    "execution": {
     "iopub.execute_input": "2022-11-12T18:00:13.840477Z",
     "iopub.status.busy": "2022-11-12T18:00:13.839560Z",
     "iopub.status.idle": "2022-11-12T18:00:13.844023Z",
     "shell.execute_reply": "2022-11-12T18:00:13.843251Z"
    },
    "papermill": {
     "duration": 0.018749,
     "end_time": "2022-11-12T18:00:13.845938",
     "exception": false,
     "start_time": "2022-11-12T18:00:13.827189",
     "status": "completed"
    },
    "tags": []
   },
   "outputs": [],
   "source": [
    "#q5.a.hint()\n",
    "#q5.a.solution()"
   ]
  },
  {
   "cell_type": "markdown",
   "id": "07a4d5bb",
   "metadata": {
    "papermill": {
     "duration": 0.010966,
     "end_time": "2022-11-12T18:00:13.868247",
     "exception": false,
     "start_time": "2022-11-12T18:00:13.857281",
     "status": "completed"
    },
    "tags": []
   },
   "source": [
    "# 5b.\n",
    "\n",
    "For the next function, fill in the body to match the English description in the docstring. "
   ]
  },
  {
   "cell_type": "code",
   "execution_count": 15,
   "id": "558501dc",
   "metadata": {
    "execution": {
     "iopub.execute_input": "2022-11-12T18:00:13.892667Z",
     "iopub.status.busy": "2022-11-12T18:00:13.891940Z",
     "iopub.status.idle": "2022-11-12T18:00:13.900286Z",
     "shell.execute_reply": "2022-11-12T18:00:13.899566Z"
    },
    "papermill": {
     "duration": 0.022844,
     "end_time": "2022-11-12T18:00:13.902215",
     "exception": false,
     "start_time": "2022-11-12T18:00:13.879371",
     "status": "completed"
    },
    "tags": []
   },
   "outputs": [
    {
     "data": {
      "application/javascript": [
       "parent.postMessage({\"jupyterEvent\": \"custom.exercise_interaction\", \"data\": {\"outcomeType\": 1, \"valueTowardsCompletion\": 0.2, \"interactionType\": 1, \"questionType\": 2, \"questionId\": \"5.2_PlainDog\", \"learnToolsVersion\": \"0.3.4\", \"failureMessage\": \"\", \"exceptionClass\": \"\", \"trace\": \"\"}}, \"*\")"
      ],
      "text/plain": [
       "<IPython.core.display.Javascript object>"
      ]
     },
     "metadata": {},
     "output_type": "display_data"
    },
    {
     "data": {
      "text/markdown": [
       "<span style=\"color:#33cc33\">Correct:</span> \n",
       "\n",
       "One solution looks like:\n",
       "```python\n",
       "return not ketchup and not mustard and not onion\n",
       "```\n",
       "\n",
       "We can also [\"factor out\" the nots](https://en.wikipedia.org/wiki/De_Morgan%27s_laws) to get:\n",
       "\n",
       "```python\n",
       "return not (ketchup or mustard or onion)\n",
       "```"
      ],
      "text/plain": [
       "Correct: \n",
       "\n",
       "One solution looks like:\n",
       "```python\n",
       "return not ketchup and not mustard and not onion\n",
       "```\n",
       "\n",
       "We can also [\"factor out\" the nots](https://en.wikipedia.org/wiki/De_Morgan%27s_laws) to get:\n",
       "\n",
       "```python\n",
       "return not (ketchup or mustard or onion)\n",
       "```"
      ]
     },
     "metadata": {},
     "output_type": "display_data"
    }
   ],
   "source": [
    "def wants_plain_hotdog(ketchup, mustard, onion):\n",
    "    \"\"\"Return whether the customer wants a plain hot dog with no toppings.\n",
    "    \"\"\"\n",
    "    return not ketchup and not mustard and not onion\n",
    "\n",
    "# Check your answer\n",
    "q5.b.check()"
   ]
  },
  {
   "cell_type": "code",
   "execution_count": 16,
   "id": "5057e5db",
   "metadata": {
    "execution": {
     "iopub.execute_input": "2022-11-12T18:00:13.928963Z",
     "iopub.status.busy": "2022-11-12T18:00:13.928471Z",
     "iopub.status.idle": "2022-11-12T18:00:13.936026Z",
     "shell.execute_reply": "2022-11-12T18:00:13.935223Z"
    },
    "papermill": {
     "duration": 0.024005,
     "end_time": "2022-11-12T18:00:13.937947",
     "exception": false,
     "start_time": "2022-11-12T18:00:13.913942",
     "status": "completed"
    },
    "tags": []
   },
   "outputs": [
    {
     "data": {
      "application/javascript": [
       "parent.postMessage({\"jupyterEvent\": \"custom.exercise_interaction\", \"data\": {\"interactionType\": 2, \"questionType\": 2, \"questionId\": \"5.2_PlainDog\", \"learnToolsVersion\": \"0.3.4\", \"valueTowardsCompletion\": 0.0, \"failureMessage\": \"\", \"exceptionClass\": \"\", \"trace\": \"\", \"outcomeType\": 4}}, \"*\")"
      ],
      "text/plain": [
       "<IPython.core.display.Javascript object>"
      ]
     },
     "metadata": {},
     "output_type": "display_data"
    },
    {
     "data": {
      "text/markdown": [
       "<span style=\"color:#3366cc\">Hint:</span> You'll need to use the `not` operator."
      ],
      "text/plain": [
       "Hint: You'll need to use the `not` operator."
      ]
     },
     "metadata": {},
     "output_type": "display_data"
    }
   ],
   "source": [
    "q5.b.hint()\n",
    "#q5.b.solution()"
   ]
  },
  {
   "cell_type": "markdown",
   "id": "06b135ad",
   "metadata": {
    "papermill": {
     "duration": 0.012537,
     "end_time": "2022-11-12T18:00:13.963497",
     "exception": false,
     "start_time": "2022-11-12T18:00:13.950960",
     "status": "completed"
    },
    "tags": []
   },
   "source": [
    "# 5c.\n",
    "\n",
    "You know what to do: for the next function, fill in the body to match the English description in the docstring."
   ]
  },
  {
   "cell_type": "code",
   "execution_count": 17,
   "id": "2dcf8605",
   "metadata": {
    "execution": {
     "iopub.execute_input": "2022-11-12T18:00:13.995067Z",
     "iopub.status.busy": "2022-11-12T18:00:13.993973Z",
     "iopub.status.idle": "2022-11-12T18:00:14.003223Z",
     "shell.execute_reply": "2022-11-12T18:00:14.002237Z"
    },
    "papermill": {
     "duration": 0.026045,
     "end_time": "2022-11-12T18:00:14.005928",
     "exception": false,
     "start_time": "2022-11-12T18:00:13.979883",
     "status": "completed"
    },
    "tags": []
   },
   "outputs": [
    {
     "data": {
      "application/javascript": [
       "parent.postMessage({\"jupyterEvent\": \"custom.exercise_interaction\", \"data\": {\"outcomeType\": 1, \"valueTowardsCompletion\": 0.2, \"interactionType\": 1, \"questionType\": 2, \"questionId\": \"5.3_OneSauce\", \"learnToolsVersion\": \"0.3.4\", \"failureMessage\": \"\", \"exceptionClass\": \"\", \"trace\": \"\"}}, \"*\")"
      ],
      "text/plain": [
       "<IPython.core.display.Javascript object>"
      ]
     },
     "metadata": {},
     "output_type": "display_data"
    },
    {
     "data": {
      "text/markdown": [
       "<span style=\"color:#33cc33\">Correct</span>"
      ],
      "text/plain": [
       "Correct"
      ]
     },
     "metadata": {},
     "output_type": "display_data"
    }
   ],
   "source": [
    "def exactly_one_sauce(ketchup, mustard, onion):\n",
    "    \"\"\"Return whether the customer wants either ketchup or mustard, but not both.\n",
    "    (You may be familiar with this operation under the name \"exclusive or\")\n",
    "    \"\"\"\n",
    "    return ketchup and not mustard or not ketchup and mustard\n",
    "\n",
    "# Check your answer\n",
    "q5.c.check()"
   ]
  },
  {
   "cell_type": "code",
   "execution_count": 18,
   "id": "ed18ce76",
   "metadata": {
    "execution": {
     "iopub.execute_input": "2022-11-12T18:00:14.034145Z",
     "iopub.status.busy": "2022-11-12T18:00:14.033511Z",
     "iopub.status.idle": "2022-11-12T18:00:14.037733Z",
     "shell.execute_reply": "2022-11-12T18:00:14.036740Z"
    },
    "papermill": {
     "duration": 0.020328,
     "end_time": "2022-11-12T18:00:14.039811",
     "exception": false,
     "start_time": "2022-11-12T18:00:14.019483",
     "status": "completed"
    },
    "tags": []
   },
   "outputs": [],
   "source": [
    "#q5.c.hint()\n",
    "#q5.c.solution()"
   ]
  },
  {
   "cell_type": "markdown",
   "id": "74af660c",
   "metadata": {
    "papermill": {
     "duration": 0.011571,
     "end_time": "2022-11-12T18:00:14.063762",
     "exception": false,
     "start_time": "2022-11-12T18:00:14.052191",
     "status": "completed"
    },
    "tags": []
   },
   "source": [
    "# 6. <span title=\"A bit spicy\" style=\"color: darkgreen \">🌶️</span>\n",
    "\n",
    "We’ve seen that calling `bool()` on an integer returns `False` if it’s equal to 0 and `True` otherwise. What happens if we call `int()` on a bool? Try it out in the notebook cell below.\n",
    "\n",
    "Can you take advantage of this to write a succinct function that corresponds to the English sentence \"does the customer want exactly one topping?\"?"
   ]
  },
  {
   "cell_type": "code",
   "execution_count": 19,
   "id": "4c150983",
   "metadata": {
    "execution": {
     "iopub.execute_input": "2022-11-12T18:00:14.089489Z",
     "iopub.status.busy": "2022-11-12T18:00:14.088839Z",
     "iopub.status.idle": "2022-11-12T18:00:14.097456Z",
     "shell.execute_reply": "2022-11-12T18:00:14.096455Z"
    },
    "papermill": {
     "duration": 0.023902,
     "end_time": "2022-11-12T18:00:14.099481",
     "exception": false,
     "start_time": "2022-11-12T18:00:14.075579",
     "status": "completed"
    },
    "tags": []
   },
   "outputs": [
    {
     "data": {
      "application/javascript": [
       "parent.postMessage({\"jupyterEvent\": \"custom.exercise_interaction\", \"data\": {\"outcomeType\": 1, \"valueTowardsCompletion\": 0.2, \"interactionType\": 1, \"questionType\": 2, \"questionId\": \"6_OneTopping\", \"learnToolsVersion\": \"0.3.4\", \"failureMessage\": \"\", \"exceptionClass\": \"\", \"trace\": \"\"}}, \"*\")"
      ],
      "text/plain": [
       "<IPython.core.display.Javascript object>"
      ]
     },
     "metadata": {},
     "output_type": "display_data"
    },
    {
     "data": {
      "text/markdown": [
       "<span style=\"color:#33cc33\">Correct:</span> \n",
       "\n",
       "This condition would be pretty complicated to express using just `and`, `or` and `not`, but using boolean-to-integer conversion gives us this short solution:\n",
       "```python\n",
       "return (int(ketchup) + int(mustard) + int(onion)) == 1\n",
       "```\n",
       "\n",
       "Fun fact: we don't technically need to call `int` on the arguments. Just by doing addition with booleans, Python implicitly does the integer conversion. So we could also write...\n",
       "\n",
       "```python\n",
       "return (ketchup + mustard + onion) == 1\n",
       "```"
      ],
      "text/plain": [
       "Correct: \n",
       "\n",
       "This condition would be pretty complicated to express using just `and`, `or` and `not`, but using boolean-to-integer conversion gives us this short solution:\n",
       "```python\n",
       "return (int(ketchup) + int(mustard) + int(onion)) == 1\n",
       "```\n",
       "\n",
       "Fun fact: we don't technically need to call `int` on the arguments. Just by doing addition with booleans, Python implicitly does the integer conversion. So we could also write...\n",
       "\n",
       "```python\n",
       "return (ketchup + mustard + onion) == 1\n",
       "```"
      ]
     },
     "metadata": {},
     "output_type": "display_data"
    }
   ],
   "source": [
    "def exactly_one_topping(ketchup, mustard, onion):\n",
    "    \"\"\"Return whether the customer wants exactly one of the three available toppings\n",
    "    on their hot dog.\n",
    "    \"\"\"\n",
    "    int(ketchup + mustard + onion)\n",
    "    return ketchup + mustard + onion == 1\n",
    "\n",
    "# Check your answer\n",
    "q6.check()"
   ]
  },
  {
   "cell_type": "code",
   "execution_count": 20,
   "id": "6dd91eea",
   "metadata": {
    "execution": {
     "iopub.execute_input": "2022-11-12T18:00:14.130023Z",
     "iopub.status.busy": "2022-11-12T18:00:14.129163Z",
     "iopub.status.idle": "2022-11-12T18:00:14.138862Z",
     "shell.execute_reply": "2022-11-12T18:00:14.137661Z"
    },
    "papermill": {
     "duration": 0.027098,
     "end_time": "2022-11-12T18:00:14.141199",
     "exception": false,
     "start_time": "2022-11-12T18:00:14.114101",
     "status": "completed"
    },
    "tags": []
   },
   "outputs": [
    {
     "data": {
      "application/javascript": [
       "parent.postMessage({\"jupyterEvent\": \"custom.exercise_interaction\", \"data\": {\"interactionType\": 2, \"questionType\": 2, \"questionId\": \"6_OneTopping\", \"learnToolsVersion\": \"0.3.4\", \"valueTowardsCompletion\": 0.0, \"failureMessage\": \"\", \"exceptionClass\": \"\", \"trace\": \"\", \"outcomeType\": 4}}, \"*\")"
      ],
      "text/plain": [
       "<IPython.core.display.Javascript object>"
      ]
     },
     "metadata": {},
     "output_type": "display_data"
    },
    {
     "data": {
      "text/markdown": [
       "<span style=\"color:#3366cc\">Hint:</span> You may have already found that `int(True)` is 1, and `int(False)` is 0. Think about what kinds of basic arithmetic operations you might want to perform on `ketchup`, `mustard`, and `onion` after converting them to integers."
      ],
      "text/plain": [
       "Hint: You may have already found that `int(True)` is 1, and `int(False)` is 0. Think about what kinds of basic arithmetic operations you might want to perform on `ketchup`, `mustard`, and `onion` after converting them to integers."
      ]
     },
     "metadata": {},
     "output_type": "display_data"
    }
   ],
   "source": [
    "q6.hint()\n",
    "#q6.solution()"
   ]
  },
  {
   "cell_type": "markdown",
   "id": "35e43c67",
   "metadata": {
    "papermill": {
     "duration": 0.016895,
     "end_time": "2022-11-12T18:00:14.175633",
     "exception": false,
     "start_time": "2022-11-12T18:00:14.158738",
     "status": "completed"
    },
    "tags": []
   },
   "source": [
    "# 7. <span title=\"A bit spicy\" style=\"color: darkgreen \">🌶️</span> (Optional)\n",
    "\n",
    "In this problem we'll be working with a simplified version of [blackjack](https://en.wikipedia.org/wiki/Blackjack) (aka twenty-one). In this version there is one player (who you'll control) and a dealer. Play proceeds as follows:\n",
    "\n",
    "- The player is dealt two face-up cards. The dealer is dealt one face-up card.\n",
    "- The player may ask to be dealt another card ('hit') as many times as they wish. If the sum of their cards exceeds 21, they lose the round immediately.\n",
    "- The dealer then deals additional cards to himself until either:\n",
    "    - the sum of the dealer's cards exceeds 21, in which case the player wins the round\n",
    "    - the sum of the dealer's cards is greater than or equal to 17. If the player's total is greater than the dealer's, the player wins. Otherwise, the dealer wins (even in case of a tie).\n",
    "    \n",
    "When calculating the sum of cards, Jack, Queen, and King count for 10. Aces can count as 1 or 11 (when referring to a player's \"total\" above, we mean the largest total that can be made without exceeding 21. So e.g. A+8 = 19, A+8+8 = 17)\n",
    "\n",
    "For this problem, you'll write a function representing the player's decision-making strategy in this game. We've provided a very unintelligent implementation below:"
   ]
  },
  {
   "cell_type": "code",
   "execution_count": 21,
   "id": "a239293c",
   "metadata": {
    "execution": {
     "iopub.execute_input": "2022-11-12T18:00:14.214052Z",
     "iopub.status.busy": "2022-11-12T18:00:14.212753Z",
     "iopub.status.idle": "2022-11-12T18:00:14.220286Z",
     "shell.execute_reply": "2022-11-12T18:00:14.219338Z"
    },
    "papermill": {
     "duration": 0.029252,
     "end_time": "2022-11-12T18:00:14.222627",
     "exception": false,
     "start_time": "2022-11-12T18:00:14.193375",
     "status": "completed"
    },
    "tags": []
   },
   "outputs": [],
   "source": [
    "def should_hit(dealer_total, player_total, player_low_aces, player_high_aces):\n",
    "    \"\"\"Return True if the player should hit (request another card) given the current game\n",
    "    state, or False if the player should stay.\n",
    "    When calculating a hand's total value, we count aces as \"high\" (with value 11) if doing so\n",
    "    doesn't bring the total above 21, otherwise we count them as low (with value 1). \n",
    "    For example, if the player's hand is {A, A, A, 7}, we will count it as 11 + 1 + 1 + 7,\n",
    "    and therefore set player_total=20, player_low_aces=2, player_high_aces=1.\n",
    "    \"\"\"\n",
    "   \n",
    "    return False"
   ]
  },
  {
   "cell_type": "markdown",
   "id": "1c48b712",
   "metadata": {
    "papermill": {
     "duration": 0.012294,
     "end_time": "2022-11-12T18:00:14.247851",
     "exception": false,
     "start_time": "2022-11-12T18:00:14.235557",
     "status": "completed"
    },
    "tags": []
   },
   "source": [
    "This very conservative agent *always* sticks with the hand of two cards that they're dealt.\n",
    "\n",
    "We'll be simulating games between your player agent and our own dealer agent by calling your function.\n",
    "\n",
    "Try running the function below to see an example of a simulated game:"
   ]
  },
  {
   "cell_type": "code",
   "execution_count": 22,
   "id": "f8e2fd0b",
   "metadata": {
    "execution": {
     "iopub.execute_input": "2022-11-12T18:00:14.274880Z",
     "iopub.status.busy": "2022-11-12T18:00:14.273780Z",
     "iopub.status.idle": "2022-11-12T18:00:14.280302Z",
     "shell.execute_reply": "2022-11-12T18:00:14.278532Z"
    },
    "papermill": {
     "duration": 0.022457,
     "end_time": "2022-11-12T18:00:14.282641",
     "exception": false,
     "start_time": "2022-11-12T18:00:14.260184",
     "status": "completed"
    },
    "tags": []
   },
   "outputs": [
    {
     "name": "stdout",
     "output_type": "stream",
     "text": [
      "Player starts with 8 and 8 (total = 16)\n",
      "Dealer starts with 6\n",
      "\n",
      "__Player's turn__\n",
      "Player stays\n",
      "\n",
      "__Dealer's turn__\n",
      "Dealer hits and receives J. (total = 16)\n",
      "Dealer hits and receives 10. (total = 26)\n",
      "Dealer busts! Player wins.\n"
     ]
    }
   ],
   "source": [
    "q7.simulate_one_game()"
   ]
  },
  {
   "cell_type": "markdown",
   "id": "898a6db8",
   "metadata": {
    "papermill": {
     "duration": 0.012276,
     "end_time": "2022-11-12T18:00:14.307504",
     "exception": false,
     "start_time": "2022-11-12T18:00:14.295228",
     "status": "completed"
    },
    "tags": []
   },
   "source": [
    "The real test of your agent's mettle is their average win rate over many games. Try calling the function below to simulate 50000 games of blackjack (it may take a couple seconds):"
   ]
  },
  {
   "cell_type": "code",
   "execution_count": 23,
   "id": "b41395df",
   "metadata": {
    "execution": {
     "iopub.execute_input": "2022-11-12T18:00:14.340022Z",
     "iopub.status.busy": "2022-11-12T18:00:14.338855Z",
     "iopub.status.idle": "2022-11-12T18:00:15.981887Z",
     "shell.execute_reply": "2022-11-12T18:00:15.980633Z"
    },
    "papermill": {
     "duration": 1.66252,
     "end_time": "2022-11-12T18:00:15.984020",
     "exception": false,
     "start_time": "2022-11-12T18:00:14.321500",
     "status": "completed"
    },
    "tags": []
   },
   "outputs": [
    {
     "name": "stdout",
     "output_type": "stream",
     "text": [
      "Player won 18958 out of 50000 games (win rate = 37.9%)\n"
     ]
    }
   ],
   "source": [
    "q7.simulate(n_games=50000)"
   ]
  },
  {
   "cell_type": "markdown",
   "id": "0683e3eb",
   "metadata": {
    "papermill": {
     "duration": 0.020915,
     "end_time": "2022-11-12T18:00:16.023632",
     "exception": false,
     "start_time": "2022-11-12T18:00:16.002717",
     "status": "completed"
    },
    "tags": []
   },
   "source": [
    "Our dumb agent that completely ignores the game state still manages to win shockingly often!\n",
    "\n",
    "Try adding some more smarts to the `should_hit` function and see how it affects the results."
   ]
  },
  {
   "cell_type": "code",
   "execution_count": 24,
   "id": "b94e7635",
   "metadata": {
    "execution": {
     "iopub.execute_input": "2022-11-12T18:00:16.058889Z",
     "iopub.status.busy": "2022-11-12T18:00:16.058397Z",
     "iopub.status.idle": "2022-11-12T18:00:17.892891Z",
     "shell.execute_reply": "2022-11-12T18:00:17.891652Z"
    },
    "papermill": {
     "duration": 1.855438,
     "end_time": "2022-11-12T18:00:17.895524",
     "exception": false,
     "start_time": "2022-11-12T18:00:16.040086",
     "status": "completed"
    },
    "tags": []
   },
   "outputs": [
    {
     "name": "stdout",
     "output_type": "stream",
     "text": [
      "Player won 20553 out of 50000 games (win rate = 41.1%)\n"
     ]
    }
   ],
   "source": [
    "def should_hit(dealer_total, player_total, player_low_aces, player_high_aces):\n",
    "    \"\"\"Return True if the player should hit (request another card) given the current game\n",
    "    state, or False if the player should stay.\n",
    "    When calculating a hand's total value, we count aces as \"high\" (with value 11) if doing so\n",
    "    doesn't bring the total above 21, otherwise we count them as low (with value 1). \n",
    "    For example, if the player's hand is {A, A, A, 7}, we will count it as 11 + 1 + 1 + 7,\n",
    "    and therefore set player_total=20, player_low_aces=2, player_high_aces=1.\n",
    "    \"\"\"\n",
    "    return player_total < dealer_total or player_total <= 11\n",
    "\n",
    "q7.simulate(n_games=50000)"
   ]
  },
  {
   "cell_type": "markdown",
   "id": "d783bac6",
   "metadata": {
    "papermill": {
     "duration": 0.012239,
     "end_time": "2022-11-12T18:00:17.920384",
     "exception": false,
     "start_time": "2022-11-12T18:00:17.908145",
     "status": "completed"
    },
    "tags": []
   },
   "source": [
    "# Keep Going\n",
    "\n",
    "Learn about **[lists and tuples](https://www.kaggle.com/colinmorris/lists)** to handle multiple items of data in a systematic way."
   ]
  },
  {
   "cell_type": "markdown",
   "id": "e2cb095d",
   "metadata": {
    "papermill": {
     "duration": 0.012209,
     "end_time": "2022-11-12T18:00:17.945164",
     "exception": false,
     "start_time": "2022-11-12T18:00:17.932955",
     "status": "completed"
    },
    "tags": []
   },
   "source": [
    "---\n",
    "\n",
    "\n",
    "\n",
    "\n",
    "*Have questions or comments? Visit the [course discussion forum](https://www.kaggle.com/learn/python/discussion) to chat with other learners.*"
   ]
  }
 ],
 "metadata": {
  "kernelspec": {
   "display_name": "Python 3",
   "language": "python",
   "name": "python3"
  },
  "language_info": {
   "codemirror_mode": {
    "name": "ipython",
    "version": 3
   },
   "file_extension": ".py",
   "mimetype": "text/x-python",
   "name": "python",
   "nbconvert_exporter": "python",
   "pygments_lexer": "ipython3",
   "version": "3.7.12"
  },
  "papermill": {
   "default_parameters": {},
   "duration": 13.737858,
   "end_time": "2022-11-12T18:00:18.578654",
   "environment_variables": {},
   "exception": null,
   "input_path": "__notebook__.ipynb",
   "output_path": "__notebook__.ipynb",
   "parameters": {},
   "start_time": "2022-11-12T18:00:04.840796",
   "version": "2.3.4"
  }
 },
 "nbformat": 4,
 "nbformat_minor": 5
}
